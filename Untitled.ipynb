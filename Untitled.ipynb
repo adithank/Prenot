{
 "cells": [
  {
   "cell_type": "code",
   "execution_count": 5,
   "id": "8b4c93bf-f949-4f2e-bb57-770d36c3cc29",
   "metadata": {},
   "outputs": [
    {
     "name": "stdout",
     "output_type": "stream",
     "text": [
      "The autoreload extension is already loaded. To reload it, use:\n",
      "  %reload_ext autoreload\n"
     ]
    }
   ],
   "source": [
    "%load_ext autoreload\n",
    "%autoreload 2"
   ]
  },
  {
   "cell_type": "code",
   "execution_count": 1,
   "id": "5b35689b-2623-4516-88a2-a707da97fcd8",
   "metadata": {},
   "outputs": [],
   "source": [
    "import configparser\n",
    "import time\n",
    "import os\n",
    "import sys\n",
    "\n",
    "from datetime import datetime\n",
    "from modules import Browser\n",
    "from modules import PrenotPage\n",
    "\n",
    "# Create the instance of the browser\n",
    "browser = Browser.Browser()\n",
    "\n",
    "prenot = PrenotPage.PrenotPage()"
   ]
  },
  {
   "cell_type": "code",
   "execution_count": 2,
   "id": "f1b96c0f-67ab-40f4-b92d-0212b0618a74",
   "metadata": {},
   "outputs": [],
   "source": [
    "browser.go_to(url=prenot.get_url())"
   ]
  },
  {
   "cell_type": "code",
   "execution_count": 3,
   "id": "f56ab09b-cdf9-4d24-995a-18fbf166b5df",
   "metadata": {},
   "outputs": [],
   "source": [
    "# Locate login form\n",
    "loc = prenot.get_locator('login')\n",
    "\n",
    "EMAIL = \"kmadith@gmail.com\"\n",
    "PASSWORD = \"1qSt6wroQA!2BG%V\"\n",
    "\n",
    "# Search for the e-mail field and fill it\n",
    "browser.find_fill_submit(by=loc['BY'], \n",
    "                            value=loc['LOGIN_EMAIL'], \n",
    "                            keys=EMAIL)\n",
    "\n",
    "# Search for the pass field, fill it and submit the form\n",
    "browser.find_fill_submit(by=loc['BY'], \n",
    "                            value=loc['LOGIN_PASSWORD'], \n",
    "                            keys=[PASSWORD, 'RETURN'])\n",
    "\n",
    "# Delete the variable\n",
    "del(loc)"
   ]
  },
  {
   "cell_type": "code",
   "execution_count": 14,
   "id": "23a8ffa8-fafb-48d9-a806-0707468a07cd",
   "metadata": {},
   "outputs": [],
   "source": [
    "tt=browser.find_elements(by='class_name',value = 'jconfirm-buttons')"
   ]
  },
  {
   "cell_type": "code",
   "execution_count": 17,
   "id": "55b8127c-1087-4d55-80c8-f544cd9db111",
   "metadata": {},
   "outputs": [],
   "source": [
    "ok_button = browser.find_elements(by='class_name',value='button.btn btn-blue')"
   ]
  },
  {
   "cell_type": "code",
   "execution_count": 27,
   "id": "24e035e0-d0f2-4a6b-a6f9-ebc78819efba",
   "metadata": {},
   "outputs": [
    {
     "ename": "StaleElementReferenceException",
     "evalue": "Message: stale element reference: stale element not found\n  (Session info: MicrosoftEdge=132.0.2957.127)\nStacktrace:\n\tGetHandleVerifier [0x00007FF705C90AF5+13637]\n\tMicrosoft::Applications::Events::EventProperty::empty [0x00007FF705F1BC04+2078868]\n\tMicrosoft::Applications::Events::EventProperty::empty [0x00007FF705E766E6+1401718]\n\t(No symbol) [0x00007FF705A16DE2]\n\t(No symbol) [0x00007FF705A15A6D]\n\t(No symbol) [0x00007FF705A171E3]\n\t(No symbol) [0x00007FF705A0BC82]\n\t(No symbol) [0x00007FF705A0A0ED]\n\t(No symbol) [0x00007FF705A0DA0C]\n\t(No symbol) [0x00007FF705A0DADF]\n\t(No symbol) [0x00007FF705A4F495]\n\t(No symbol) [0x00007FF705A44366]\n\t(No symbol) [0x00007FF705A6DDCA]\n\t(No symbol) [0x00007FF705A43DA7]\n\t(No symbol) [0x00007FF705A43C6D]\n\t(No symbol) [0x00007FF705A6E0B0]\n\t(No symbol) [0x00007FF705A43DA7]\n\t(No symbol) [0x00007FF705A888FD]\n\t(No symbol) [0x00007FF705A6DA33]\n\t(No symbol) [0x00007FF705A432F4]\n\t(No symbol) [0x00007FF705A42626]\n\t(No symbol) [0x00007FF705A42EE1]\n\t(No symbol) [0x00007FF705ACE194]\n\t(No symbol) [0x00007FF705B7607F]\n\t(No symbol) [0x00007FF705AD1B83]\n\tMicrosoft::Applications::Events::EventProperty::to_string [0x00007FF705FD81F9+269801]\n\tMicrosoft::Applications::Events::ILogConfiguration::operator* [0x00007FF705C271B1+519377]\n\tMicrosoft::Applications::Events::ILogConfiguration::operator* [0x00007FF705C224A4+499652]\n\tMicrosoft::Applications::Events::ILogConfiguration::operator* [0x00007FF705C225E9+499977]\n\tMicrosoft::Applications::Events::ILogConfiguration::operator* [0x00007FF705C17566+454790]\n\tBaseThreadInitThunk [0x00007FFC1D41E8D7+23]\n\tRtlUserThreadStart [0x00007FFC1DB3FBCC+44]\n",
     "output_type": "error",
     "traceback": [
      "\u001b[1;31m---------------------------------------------------------------------------\u001b[0m",
      "\u001b[1;31mStaleElementReferenceException\u001b[0m            Traceback (most recent call last)",
      "Cell \u001b[1;32mIn[27], line 1\u001b[0m\n\u001b[1;32m----> 1\u001b[0m \u001b[43mtt\u001b[49m\u001b[43m[\u001b[49m\u001b[38;5;241;43m0\u001b[39;49m\u001b[43m]\u001b[49m\u001b[38;5;241;43m.\u001b[39;49m\u001b[43mclick\u001b[49m\u001b[43m(\u001b[49m\u001b[43m)\u001b[49m\n",
      "File \u001b[1;32mD:\\Conda\\envs\\prenot\\Lib\\site-packages\\selenium\\webdriver\\remote\\webelement.py:81\u001b[0m, in \u001b[0;36mWebElement.click\u001b[1;34m(self)\u001b[0m\n\u001b[0;32m     79\u001b[0m \u001b[38;5;28;01mdef\u001b[39;00m\u001b[38;5;250m \u001b[39m\u001b[38;5;21mclick\u001b[39m(\u001b[38;5;28mself\u001b[39m) \u001b[38;5;241m-\u001b[39m\u001b[38;5;241m>\u001b[39m \u001b[38;5;28;01mNone\u001b[39;00m:\n\u001b[0;32m     80\u001b[0m \u001b[38;5;250m    \u001b[39m\u001b[38;5;124;03m\"\"\"Clicks the element.\"\"\"\u001b[39;00m\n\u001b[1;32m---> 81\u001b[0m     \u001b[38;5;28;43mself\u001b[39;49m\u001b[38;5;241;43m.\u001b[39;49m\u001b[43m_execute\u001b[49m\u001b[43m(\u001b[49m\u001b[43mCommand\u001b[49m\u001b[38;5;241;43m.\u001b[39;49m\u001b[43mCLICK_ELEMENT\u001b[49m\u001b[43m)\u001b[49m\n",
      "File \u001b[1;32mD:\\Conda\\envs\\prenot\\Lib\\site-packages\\selenium\\webdriver\\remote\\webelement.py:740\u001b[0m, in \u001b[0;36mWebElement._execute\u001b[1;34m(self, command, params)\u001b[0m\n\u001b[0;32m    738\u001b[0m     params \u001b[38;5;241m=\u001b[39m {}\n\u001b[0;32m    739\u001b[0m params[\u001b[38;5;124m'\u001b[39m\u001b[38;5;124mid\u001b[39m\u001b[38;5;124m'\u001b[39m] \u001b[38;5;241m=\u001b[39m \u001b[38;5;28mself\u001b[39m\u001b[38;5;241m.\u001b[39m_id\n\u001b[1;32m--> 740\u001b[0m \u001b[38;5;28;01mreturn\u001b[39;00m \u001b[38;5;28;43mself\u001b[39;49m\u001b[38;5;241;43m.\u001b[39;49m\u001b[43m_parent\u001b[49m\u001b[38;5;241;43m.\u001b[39;49m\u001b[43mexecute\u001b[49m\u001b[43m(\u001b[49m\u001b[43mcommand\u001b[49m\u001b[43m,\u001b[49m\u001b[43m \u001b[49m\u001b[43mparams\u001b[49m\u001b[43m)\u001b[49m\n",
      "File \u001b[1;32mD:\\Conda\\envs\\prenot\\Lib\\site-packages\\selenium\\webdriver\\remote\\webdriver.py:430\u001b[0m, in \u001b[0;36mWebDriver.execute\u001b[1;34m(self, driver_command, params)\u001b[0m\n\u001b[0;32m    428\u001b[0m response \u001b[38;5;241m=\u001b[39m \u001b[38;5;28mself\u001b[39m\u001b[38;5;241m.\u001b[39mcommand_executor\u001b[38;5;241m.\u001b[39mexecute(driver_command, params)\n\u001b[0;32m    429\u001b[0m \u001b[38;5;28;01mif\u001b[39;00m response:\n\u001b[1;32m--> 430\u001b[0m     \u001b[38;5;28;43mself\u001b[39;49m\u001b[38;5;241;43m.\u001b[39;49m\u001b[43merror_handler\u001b[49m\u001b[38;5;241;43m.\u001b[39;49m\u001b[43mcheck_response\u001b[49m\u001b[43m(\u001b[49m\u001b[43mresponse\u001b[49m\u001b[43m)\u001b[49m\n\u001b[0;32m    431\u001b[0m     response[\u001b[38;5;124m'\u001b[39m\u001b[38;5;124mvalue\u001b[39m\u001b[38;5;124m'\u001b[39m] \u001b[38;5;241m=\u001b[39m \u001b[38;5;28mself\u001b[39m\u001b[38;5;241m.\u001b[39m_unwrap_value(\n\u001b[0;32m    432\u001b[0m         response\u001b[38;5;241m.\u001b[39mget(\u001b[38;5;124m'\u001b[39m\u001b[38;5;124mvalue\u001b[39m\u001b[38;5;124m'\u001b[39m, \u001b[38;5;28;01mNone\u001b[39;00m))\n\u001b[0;32m    433\u001b[0m     \u001b[38;5;28;01mreturn\u001b[39;00m response\n",
      "File \u001b[1;32mD:\\Conda\\envs\\prenot\\Lib\\site-packages\\selenium\\webdriver\\remote\\errorhandler.py:247\u001b[0m, in \u001b[0;36mErrorHandler.check_response\u001b[1;34m(self, response)\u001b[0m\n\u001b[0;32m    245\u001b[0m         alert_text \u001b[38;5;241m=\u001b[39m value[\u001b[38;5;124m'\u001b[39m\u001b[38;5;124malert\u001b[39m\u001b[38;5;124m'\u001b[39m]\u001b[38;5;241m.\u001b[39mget(\u001b[38;5;124m'\u001b[39m\u001b[38;5;124mtext\u001b[39m\u001b[38;5;124m'\u001b[39m)\n\u001b[0;32m    246\u001b[0m     \u001b[38;5;28;01mraise\u001b[39;00m exception_class(message, screen, stacktrace, alert_text)  \u001b[38;5;66;03m# type: ignore[call-arg]  # mypy is not smart enough here\u001b[39;00m\n\u001b[1;32m--> 247\u001b[0m \u001b[38;5;28;01mraise\u001b[39;00m exception_class(message, screen, stacktrace)\n",
      "\u001b[1;31mStaleElementReferenceException\u001b[0m: Message: stale element reference: stale element not found\n  (Session info: MicrosoftEdge=132.0.2957.127)\nStacktrace:\n\tGetHandleVerifier [0x00007FF705C90AF5+13637]\n\tMicrosoft::Applications::Events::EventProperty::empty [0x00007FF705F1BC04+2078868]\n\tMicrosoft::Applications::Events::EventProperty::empty [0x00007FF705E766E6+1401718]\n\t(No symbol) [0x00007FF705A16DE2]\n\t(No symbol) [0x00007FF705A15A6D]\n\t(No symbol) [0x00007FF705A171E3]\n\t(No symbol) [0x00007FF705A0BC82]\n\t(No symbol) [0x00007FF705A0A0ED]\n\t(No symbol) [0x00007FF705A0DA0C]\n\t(No symbol) [0x00007FF705A0DADF]\n\t(No symbol) [0x00007FF705A4F495]\n\t(No symbol) [0x00007FF705A44366]\n\t(No symbol) [0x00007FF705A6DDCA]\n\t(No symbol) [0x00007FF705A43DA7]\n\t(No symbol) [0x00007FF705A43C6D]\n\t(No symbol) [0x00007FF705A6E0B0]\n\t(No symbol) [0x00007FF705A43DA7]\n\t(No symbol) [0x00007FF705A888FD]\n\t(No symbol) [0x00007FF705A6DA33]\n\t(No symbol) [0x00007FF705A432F4]\n\t(No symbol) [0x00007FF705A42626]\n\t(No symbol) [0x00007FF705A42EE1]\n\t(No symbol) [0x00007FF705ACE194]\n\t(No symbol) [0x00007FF705B7607F]\n\t(No symbol) [0x00007FF705AD1B83]\n\tMicrosoft::Applications::Events::EventProperty::to_string [0x00007FF705FD81F9+269801]\n\tMicrosoft::Applications::Events::ILogConfiguration::operator* [0x00007FF705C271B1+519377]\n\tMicrosoft::Applications::Events::ILogConfiguration::operator* [0x00007FF705C224A4+499652]\n\tMicrosoft::Applications::Events::ILogConfiguration::operator* [0x00007FF705C225E9+499977]\n\tMicrosoft::Applications::Events::ILogConfiguration::operator* [0x00007FF705C17566+454790]\n\tBaseThreadInitThunk [0x00007FFC1D41E8D7+23]\n\tRtlUserThreadStart [0x00007FFC1DB3FBCC+44]\n"
     ]
    }
   ],
   "source": [
    "tt[0].click()"
   ]
  },
  {
   "cell_type": "code",
   "execution_count": 26,
   "id": "2737f268-a29c-4519-b8aa-ab9e8e3f604f",
   "metadata": {},
   "outputs": [],
   "source": [
    "browser.go_to(url=prenot.get_url())"
   ]
  },
  {
   "cell_type": "code",
   "execution_count": 28,
   "id": "c3931a5a-66e1-4541-8b44-cf8ed40b1e5e",
   "metadata": {},
   "outputs": [],
   "source": [
    "tt=browser.find_elements(by='class_name',value = 'jconfirm-buttons')\n",
    "tt[0].click()"
   ]
  },
  {
   "cell_type": "code",
   "execution_count": 41,
   "id": "0be32630-1997-4430-9967-e411bcc99646",
   "metadata": {},
   "outputs": [],
   "source": [
    "import telegram\n",
    "bot_token = \"7171868311:AAFKK98ywDcc9miItSTGm99T7pweM6oP4ZY\"\n",
    "chat_id = \"7787352867\"  # Replace with your Telegram chat ID (can be your user ID)\n",
    "bot = telegram.Bot(token=bot_token)\n",
    "coobj = bot.send_message(chat_id=chat_id, text=\"test\")  # Use await here!"
   ]
  },
  {
   "cell_type": "code",
   "execution_count": 53,
   "id": "3a0ed74c-a237-4100-a776-828bb57a65c0",
   "metadata": {},
   "outputs": [],
   "source": [
    "coobj.close()"
   ]
  },
  {
   "cell_type": "code",
   "execution_count": null,
   "id": "3ab25c10-3847-4bfd-9b21-78930e7ff372",
   "metadata": {},
   "outputs": [],
   "source": []
  },
  {
   "cell_type": "code",
   "execution_count": 39,
   "id": "c4d28084-282f-4724-a7ee-c9f6536b5ab0",
   "metadata": {},
   "outputs": [
    {
     "ename": "RuntimeError",
     "evalue": "asyncio.run() cannot be called from a running event loop",
     "output_type": "error",
     "traceback": [
      "\u001b[1;31m---------------------------------------------------------------------------\u001b[0m",
      "\u001b[1;31mRuntimeError\u001b[0m                              Traceback (most recent call last)",
      "Cell \u001b[1;32mIn[39], line 13\u001b[0m\n\u001b[0;32m     10\u001b[0m         \u001b[38;5;28mprint\u001b[39m(\u001b[38;5;124mf\u001b[39m\u001b[38;5;124m\"\u001b[39m\u001b[38;5;124mError sending Telegram message: \u001b[39m\u001b[38;5;132;01m{\u001b[39;00m\u001b[38;5;28mtype\u001b[39m(e)\u001b[38;5;241m.\u001b[39m\u001b[38;5;18m__name__\u001b[39m\u001b[38;5;132;01m}\u001b[39;00m\u001b[38;5;124m: \u001b[39m\u001b[38;5;132;01m{\u001b[39;00me\u001b[38;5;132;01m}\u001b[39;00m\u001b[38;5;124m\"\u001b[39m)  \u001b[38;5;66;03m# Print full error\u001b[39;00m\n\u001b[0;32m     11\u001b[0m         \u001b[38;5;66;03m# bot.send_message(chat_id=chat_id, text=\"No message page detected. Check for appointments!\")\u001b[39;00m\n\u001b[1;32m---> 13\u001b[0m \u001b[43masyncio\u001b[49m\u001b[38;5;241;43m.\u001b[39;49m\u001b[43mrun\u001b[49m\u001b[43m(\u001b[49m\u001b[43msend_telegram_message\u001b[49m\u001b[43m(\u001b[49m\u001b[43mbot_token\u001b[49m\u001b[43m,\u001b[49m\u001b[43m \u001b[49m\u001b[43mchat_id\u001b[49m\u001b[43m,\u001b[49m\u001b[43m \u001b[49m\u001b[43mmessage\u001b[49m\u001b[43m)\u001b[49m\u001b[43m)\u001b[49m\n",
      "File \u001b[1;32mD:\\Conda\\envs\\prenot\\Lib\\asyncio\\runners.py:190\u001b[0m, in \u001b[0;36mrun\u001b[1;34m(main, debug, loop_factory)\u001b[0m\n\u001b[0;32m    161\u001b[0m \u001b[38;5;250m\u001b[39m\u001b[38;5;124;03m\"\"\"Execute the coroutine and return the result.\u001b[39;00m\n\u001b[0;32m    162\u001b[0m \n\u001b[0;32m    163\u001b[0m \u001b[38;5;124;03mThis function runs the passed coroutine, taking care of\u001b[39;00m\n\u001b[1;32m   (...)\u001b[0m\n\u001b[0;32m    186\u001b[0m \u001b[38;5;124;03m    asyncio.run(main())\u001b[39;00m\n\u001b[0;32m    187\u001b[0m \u001b[38;5;124;03m\"\"\"\u001b[39;00m\n\u001b[0;32m    188\u001b[0m \u001b[38;5;28;01mif\u001b[39;00m events\u001b[38;5;241m.\u001b[39m_get_running_loop() \u001b[38;5;129;01mis\u001b[39;00m \u001b[38;5;129;01mnot\u001b[39;00m \u001b[38;5;28;01mNone\u001b[39;00m:\n\u001b[0;32m    189\u001b[0m     \u001b[38;5;66;03m# fail fast with short traceback\u001b[39;00m\n\u001b[1;32m--> 190\u001b[0m     \u001b[38;5;28;01mraise\u001b[39;00m \u001b[38;5;167;01mRuntimeError\u001b[39;00m(\n\u001b[0;32m    191\u001b[0m         \u001b[38;5;124m\"\u001b[39m\u001b[38;5;124masyncio.run() cannot be called from a running event loop\u001b[39m\u001b[38;5;124m\"\u001b[39m)\n\u001b[0;32m    193\u001b[0m \u001b[38;5;28;01mwith\u001b[39;00m Runner(debug\u001b[38;5;241m=\u001b[39mdebug, loop_factory\u001b[38;5;241m=\u001b[39mloop_factory) \u001b[38;5;28;01mas\u001b[39;00m runner:\n\u001b[0;32m    194\u001b[0m     \u001b[38;5;28;01mreturn\u001b[39;00m runner\u001b[38;5;241m.\u001b[39mrun(main)\n",
      "\u001b[1;31mRuntimeError\u001b[0m: asyncio.run() cannot be called from a running event loop"
     ]
    }
   ],
   "source": [
    "import asyncio\n",
    "\n",
    "message = \"test\"\n",
    "async def send_telegram_message(bot_token, chat_id, message):  # Define an async function\n",
    "    try:\n",
    "        bot = telegram.Bot(token=bot_token)\n",
    "        await bot.send_message(chat_id=chat_id, text=message)  # Use await here!\n",
    "        print(\"Telegram message sent!\")\n",
    "    except Exception as e:\n",
    "        print(f\"Error sending Telegram message: {type(e).__name__}: {e}\")  # Print full error\n",
    "        # bot.send_message(chat_id=chat_id, text=\"No message page detected. Check for appointments!\")"
   ]
  }
 ],
 "metadata": {
  "kernelspec": {
   "display_name": "Python 3 (ipykernel)",
   "language": "python",
   "name": "python3"
  },
  "language_info": {
   "codemirror_mode": {
    "name": "ipython",
    "version": 3
   },
   "file_extension": ".py",
   "mimetype": "text/x-python",
   "name": "python",
   "nbconvert_exporter": "python",
   "pygments_lexer": "ipython3",
   "version": "3.13.1"
  }
 },
 "nbformat": 4,
 "nbformat_minor": 5
}
