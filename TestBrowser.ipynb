{
 "cells": [
  {
   "cell_type": "code",
   "execution_count": 1,
   "id": "3c69f046-6c37-4485-ad0b-44b98c9ecd87",
   "metadata": {},
   "outputs": [],
   "source": [
    "%load_ext autoreload\n",
    "%autoreload 2"
   ]
  },
  {
   "cell_type": "code",
   "execution_count": 1,
   "id": "7c3f7287-e95d-49bd-8a08-846394890675",
   "metadata": {},
   "outputs": [],
   "source": [
    "import undetected_chromedriver as udc\n",
    "import os "
   ]
  },
  {
   "cell_type": "code",
   "execution_count": 24,
   "id": "b02e679e-2602-4dd1-9bec-62c299a2ceef",
   "metadata": {},
   "outputs": [],
   "source": [
    "options = udc.ChromeOptions()\n",
    "options.headless = False\n",
    "options.add_argument(\"--disable-gpu\")\n",
    "options.add_argument(\"--disable-blink-features=AutomationControlled\")\n",
    "driver = udc.Chrome(use_subprocess=True, options=options)\n",
    "driver.delete_all_cookies()"
   ]
  },
  {
   "cell_type": "code",
   "execution_count": 25,
   "id": "9212263f-54e9-4b2e-9927-857af0fb3e3e",
   "metadata": {},
   "outputs": [],
   "source": [
    "driver.get(\"https://prenotami.esteri.it/\")"
   ]
  },
  {
   "cell_type": "code",
   "execution_count": 26,
   "id": "bf70af9e-eb8d-4aa6-b2df-18319f3a7b56",
   "metadata": {},
   "outputs": [],
   "source": [
    "email = \"kmadith@gmail.com\"\n",
    "password = \"1qSt6wroQA!2BG%V\"\n",
    "\n",
    "from selenium import webdriver\n",
    "from selenium.webdriver.chrome.service import Service\n",
    "from selenium.webdriver.common.by import By\n",
    "from selenium.webdriver.support.ui import WebDriverWait\n",
    "from selenium.webdriver.support import expected_conditions as EC\n",
    "from selenium.webdriver import ChromeOptions\n",
    "from selenium.webdriver.support.ui import Select\n",
    "from datetime import datetime\n",
    "from selenium.common.exceptions import NoSuchElementException\n",
    "from time import sleep\n",
    "import random\n",
    "\n",
    "email_box = WebDriverWait(driver, 60).until(\n",
    "    EC.presence_of_element_located((By.ID, \"login-email\"))\n",
    ")\n",
    "password_box = driver.find_element(By.ID, \"login-password\")\n",
    "email_box.send_keys(email)\n",
    "\n",
    "password_box.send_keys(password)\n",
    "\n",
    "sleep(random.randint(1, 3))"
   ]
  },
  {
   "cell_type": "code",
   "execution_count": 31,
   "id": "ea8519e5-5412-4337-a6f0-5ca2863de652",
   "metadata": {},
   "outputs": [],
   "source": [
    "button = driver.find_elements(\n",
    "                By.XPATH, \"//button[contains(@class,'button primary g-recaptcha')]\"\n",
    "            )\n",
    "button[0].click()"
   ]
  },
  {
   "cell_type": "code",
   "execution_count": 21,
   "id": "4dd00a80-7689-47f4-8981-de628dfcff2a",
   "metadata": {},
   "outputs": [],
   "source": [
    "button =driver.find_element(By.XPATH, \"//span[text()='Prenota']\")\n",
    "        \n",
    "button.click()"
   ]
  },
  {
   "cell_type": "code",
   "execution_count": 22,
   "id": "2b06ca92-0b08-43d2-a82b-3899078154f3",
   "metadata": {},
   "outputs": [],
   "source": [
    "button = driver.find_elements(\n",
    "                By.CSS_SELECTOR, \"[href='/Services/Booking/4996']\"\n",
    "            )\n",
    "button[0].click()\n",
    "sleep(random.randint(1, 3))"
   ]
  },
  {
   "cell_type": "code",
   "execution_count": 23,
   "id": "c2db427a-3785-45a3-910a-ca953f224365",
   "metadata": {},
   "outputs": [],
   "source": [
    "# button = driver.find_elements(\n",
    "#                 By.XPATH, \"[href='/Services/Booking/4996']\"\n",
    "#             )\n",
    "ok_dialog = driver.find_element(By.CLASS_NAME,'jconfirm-buttons')\n",
    "ok_dialog.click()"
   ]
  }
 ],
 "metadata": {
  "kernelspec": {
   "display_name": "Python 3 (ipykernel)",
   "language": "python",
   "name": "python3"
  },
  "language_info": {
   "codemirror_mode": {
    "name": "ipython",
    "version": 3
   },
   "file_extension": ".py",
   "mimetype": "text/x-python",
   "name": "python",
   "nbconvert_exporter": "python",
   "pygments_lexer": "ipython3",
   "version": "3.13.1"
  }
 },
 "nbformat": 4,
 "nbformat_minor": 5
}
